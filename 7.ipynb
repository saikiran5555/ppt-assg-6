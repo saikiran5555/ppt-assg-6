{
 "cells": [
  {
   "cell_type": "code",
   "execution_count": 1,
   "id": "1a857cfc",
   "metadata": {},
   "outputs": [
    {
     "name": "stdout",
     "output_type": "stream",
     "text": [
      "[[1, 2, 3], [8, 9, 4], [7, 6, 5]]\n"
     ]
    }
   ],
   "source": [
    "def generateMatrix(n):\n",
    "    matrix = [[0] * n for _ in range(n)]\n",
    "    num = 1\n",
    "    rowStart, rowEnd, colStart, colEnd = 0, n - 1, 0, n - 1\n",
    "\n",
    "    while rowStart <= rowEnd and colStart <= colEnd:\n",
    "        for col in range(colStart, colEnd + 1):\n",
    "            matrix[rowStart][col] = num\n",
    "            num += 1\n",
    "        rowStart += 1\n",
    "\n",
    "        for row in range(rowStart, rowEnd + 1):\n",
    "            matrix[row][colEnd] = num\n",
    "            num += 1\n",
    "        colEnd -= 1\n",
    "\n",
    "        if rowStart <= rowEnd:\n",
    "            for col in range(colEnd, colStart - 1, -1):\n",
    "                matrix[rowEnd][col] = num\n",
    "                num += 1\n",
    "            rowEnd -= 1\n",
    "\n",
    "        if colStart <= colEnd:\n",
    "            for row in range(rowEnd, rowStart - 1, -1):\n",
    "                matrix[row][colStart] = num\n",
    "                num += 1\n",
    "            colStart += 1\n",
    "\n",
    "    return matrix\n",
    "n = 3\n",
    "result = generateMatrix(n)\n",
    "print(result)\n"
   ]
  },
  {
   "cell_type": "code",
   "execution_count": null,
   "id": "cd4db196",
   "metadata": {},
   "outputs": [],
   "source": []
  }
 ],
 "metadata": {
  "kernelspec": {
   "display_name": "Python 3 (ipykernel)",
   "language": "python",
   "name": "python3"
  },
  "language_info": {
   "codemirror_mode": {
    "name": "ipython",
    "version": 3
   },
   "file_extension": ".py",
   "mimetype": "text/x-python",
   "name": "python",
   "nbconvert_exporter": "python",
   "pygments_lexer": "ipython3",
   "version": "3.10.9"
  }
 },
 "nbformat": 4,
 "nbformat_minor": 5
}
