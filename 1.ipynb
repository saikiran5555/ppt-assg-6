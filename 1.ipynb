{
 "cells": [
  {
   "cell_type": "code",
   "execution_count": 1,
   "id": "b16f1f05",
   "metadata": {},
   "outputs": [
    {
     "name": "stdout",
     "output_type": "stream",
     "text": [
      "[0, 4, 1, 3, 2]\n"
     ]
    }
   ],
   "source": [
    "def reconstructPermutation(s):\n",
    "    n = len(s)\n",
    "    start = 0\n",
    "    end = n\n",
    "    perm = []\n",
    "    \n",
    "    for ch in s:\n",
    "        if ch == 'I':\n",
    "            perm.append(start)\n",
    "            start += 1\n",
    "        else:\n",
    "            perm.append(end)\n",
    "            end -= 1\n",
    "    \n",
    "    perm.append(start)\n",
    "    \n",
    "    return perm\n",
    "s = \"IDID\"\n",
    "perm = reconstructPermutation(s)\n",
    "print(perm)\n"
   ]
  },
  {
   "cell_type": "code",
   "execution_count": null,
   "id": "c59260e7",
   "metadata": {},
   "outputs": [],
   "source": []
  }
 ],
 "metadata": {
  "kernelspec": {
   "display_name": "Python 3 (ipykernel)",
   "language": "python",
   "name": "python3"
  },
  "language_info": {
   "codemirror_mode": {
    "name": "ipython",
    "version": 3
   },
   "file_extension": ".py",
   "mimetype": "text/x-python",
   "name": "python",
   "nbconvert_exporter": "python",
   "pygments_lexer": "ipython3",
   "version": "3.10.9"
  }
 },
 "nbformat": 4,
 "nbformat_minor": 5
}
